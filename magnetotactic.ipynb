{
 "cells": [
  {
   "cell_type": "code",
   "execution_count": 1,
   "metadata": {},
   "outputs": [],
   "source": [
    "from collections import Counter\n",
    "from io import StringIO\n",
    "import pandas as pd\n",
    "import altair as alt"
   ]
  },
  {
   "cell_type": "code",
   "execution_count": 2,
   "metadata": {},
   "outputs": [],
   "source": [
    "alt.renderers.enable('notebook')"
   ]
  },
  {
   "cell_type": "code",
   "execution_count": 3,
   "metadata": {},
   "outputs": [
    {
     "name": "stdout",
     "output_type": "stream",
     "text": [
      "BOT2cds1488 30.909 220 151 1 0.3090909090909091 a-proteobacteria 1898112 Rhodospirillaceae bacterium Bacteria\n",
      "BOT2cds1488 28.033 239 167 5 0.2803347280334728 a-proteobacteria 1898112 Rhodospirillaceae bacterium Bacteria\n",
      "BOT2cds1488 30.786 471 320 5 0.30997876857749473 e-proteobacteria 1968531 Helicobacteraceae bacterium 4484_230 Bacteria\n",
      "BOT2cds1488 32.983 476 307 7 0.3403361344537815 g-proteobacteria 568106 Marinobacterium lutimaris Bacteria\n",
      "BOT2cds1488 30.108 279 189 6 0.30107526881720426 g-proteobacteria 568106 Marinobacterium lutimaris Bacteria\n",
      "BOT2cds1488 23.144 229 175 1 0.23144104803493448 g-proteobacteria 568106 Marinobacterium lutimaris Bacteria\n",
      "BOT2cds1488 30.603 464 316 4 0.31034482758620685 d-proteobacteria 34031 Desulfobacter vibrioformis Bacteria\n",
      "BOT2cds1488 22.000 500 335 10 0.31000000000000005 d-proteobacteria 34031 Desulfobacter vibrioformis Bacteria\n",
      "BOT2cds1488 25.105 239 174 5 0.2510460251046025 d-proteobacteria 34031 Desulfobacter vibrioformis Bacteria\n",
      "BOT2cds1488 30.208 480 327 5 0.30833333333333335 d-proteobacteria 2290 Desulfobacter curvatus Bacteria\n"
     ]
    }
   ],
   "source": [
    "with open('sample') as input_file:\n",
    "    for _ in range(10):\n",
    "        parts = input_file.readline().strip().split('\\t')\n",
    "        print(parts[0], parts[2], parts[3], parts[4], parts[5], 1-(int(parts[4]) + int(parts[5]))/int(parts[3]), parts[17], parts[18], parts[19], parts[20])\n"
   ]
  },
  {
   "cell_type": "code",
   "execution_count": 4,
   "metadata": {},
   "outputs": [
    {
     "name": "stdout",
     "output_type": "stream",
     "text": [
      "\u001b[0m\u001b[01;32mBOT1.faa\u001b[0m*                BOT2_filtered_blast.tsv  IT1_nr.tsv\r\n",
      "BOT1_filtered_blast.tsv  BOT2_nr_single.tsv       magnetotactic.ipynb\r\n",
      "BOT1_nr.tsv              BOT2_nr.tsv              \u001b[01;32mrun_blastp_nr.sh\u001b[0m*\r\n",
      "\u001b[01;32mBOT2.faa\u001b[0m*                iris.ipynb               sample\r\n"
     ]
    }
   ],
   "source": [
    "ls"
   ]
  },
  {
   "cell_type": "code",
   "execution_count": 5,
   "metadata": {},
   "outputs": [
    {
     "name": "stdout",
     "output_type": "stream",
     "text": [
      "Archaea\n",
      "Bacteria\n",
      "Bacteria\n",
      "Bacteria\n",
      "Bacteria\n",
      "Bacteria\n",
      "Eukaryota\n",
      "Bacteria\n",
      "Bacteria\n",
      "Bacteria\n"
     ]
    }
   ],
   "source": [
    "%%bash\n",
    "awk 'BEGIN {FS=\"\\t\"} {print $21}' BOT1_nr.tsv | head "
   ]
  },
  {
   "cell_type": "code",
   "execution_count": 6,
   "metadata": {},
   "outputs": [
    {
     "name": "stdout",
     "output_type": "stream",
     "text": [
      "   6558 g-proteobacteria\n",
      "   5264 a-proteobacteria\n",
      "   4504 d-proteobacteria\n",
      "   3341 bacteria\n",
      "   2559 b-proteobacteria\n",
      "   1127 proteobacteria\n",
      "   1123 firmicutes\n",
      "    680 cyanobacteria\n",
      "    399 CFB group bacteria\n",
      "    363 high GC Gram+\n",
      "    258 verrucomicrobia\n",
      "    209 enterobacteria\n",
      "    208 dinoflagellates\n",
      "    183 e-proteobacteria\n",
      "    179 GNS bacteria\n",
      "    174 euryarchaeotes\n",
      "    171 ascomycetes\n",
      "    101 eudicots\n",
      "     95 planctomycetes\n",
      "     88 bony fishes\n",
      "     74 green sulfur bacteria\n",
      "     65 apicomplexans\n",
      "     59 a-proteobacteria;proteobacteria\n",
      "     55 viruses\n",
      "     52 spirochetes\n",
      "     50 chlamydias\n",
      "     36 aquificales\n",
      "     36 archaea\n",
      "     34 basidiomycetes\n",
      "     31 actinobacteria\n",
      "     25 N/A\n",
      "     24 fungi\n",
      "     22 kinetoplastids\n",
      "     20 brachiopods\n",
      "     20 nematodes\n",
      "     19 birds\n",
      "     19 stony corals\n",
      "     18 crenarchaeotes\n",
      "     18 flatworms\n",
      "     16 lizards\n",
      "     15 flies\n",
      "     14 bivalves\n",
      "     13 b-proteobacteria;proteobacteria\n",
      "     13 rodents\n",
      "     12 thermotogales\n",
      "     11 a-proteobacteria;g-proteobacteria\n",
      "     11 g-proteobacteria;proteobacteria\n",
      "     11 sea anemones\n",
      "     10 glomeromycetes\n",
      "     10 other sequences\n",
      "      9 bacteria;proteobacteria\n",
      "      9 choanoflagellates\n",
      "      9 placentals\n",
      "      8 beetles\n",
      "      8 monocots\n",
      "      7 frogs & toads\n",
      "      7 sea urchins\n",
      "      7 termites\n",
      "      6 cellular slime molds\n",
      "      6 gastropods\n",
      "      6 mites & ticks\n",
      "      6 primates\n",
      "      5 proteobacteria;viruses\n",
      "      4 oomycetes\n",
      "      4 whales & dolphins\n",
      "      3 a-proteobacteria;bacteria\n",
      "      3 bats\n",
      "      3 brown algae\n",
      "      3 bugs\n",
      "      3 crustaceans\n",
      "      3 eukaryotes\n",
      "      3 fusobacteria\n",
      "      3 liverworts\n",
      "      3 mosses\n",
      "      3 odd-toed ungulates\n",
      "      2 a-proteobacteria;g-proteobacteria;proteobacteria\n",
      "      2 a-proteobacteria;viruses\n",
      "      2 bees\n",
      "      2 ciliates\n",
      "      2 cryptomonads\n",
      "      2 even-toed ungulates\n",
      "      2 g-proteobacteria;viruses\n",
      "      2 lancelets\n",
      "      2 mosquitos\n",
      "      2 moths\n",
      "      2 segmented worms\n",
      "      2 tunicates\n",
      "      1 \"Acetobacter ascendens\" (Henneberg 1898) Kim et al. 2018;a-proteobacteria\n",
      "      1 ants\n",
      "      1 a-proteobacteria;b-proteobacteria\n",
      "      1 a-proteobacteria;firmicutes\n",
      "      1 bacteria;enterobacteria\n",
      "      1 bacteria;firmicutes;proteobacteria\n",
      "      1 bacteria;g-proteobacteria\n",
      "      1 b-proteobacteria;d-proteobacteria\n",
      "      1 b-proteobacteria;g-proteobacteria\n",
      "      1 b-proteobacteria;g-proteobacteria;proteobacteria\n",
      "      1 b-proteobacteria;high GC Gram+\n",
      "      1 butterflies\n",
      "      1 cephalopods\n",
      "      1 CFB group bacteria;bacteria;enterobacteria\n",
      "      1 cyanobacteria;firmicutes\n",
      "      1 diatoms\n",
      "      1 d-proteobacteria;euryarchaeotes\n",
      "      1 d-proteobacteria;proteobacteria\n",
      "      1 eudicots;other sequences\n",
      "      1 GNS bacteria;d-proteobacteria\n",
      "      1 green plants\n",
      "      1 insectivores\n",
      "      1 marsupials\n",
      "      1 myxozoans\n",
      "      1 other sequences;viruses\n",
      "      1 red algae\n",
      "      1 spiders\n",
      "      1 sponges\n",
      "      1 trichomonads\n",
      "      1 turtles\n",
      "      1 wasps &c.\n"
     ]
    }
   ],
   "source": [
    "%%bash\n",
    "awk 'BEGIN {FS=\"\\t\"} {print $18}' BOT1_nr.tsv | sort | uniq -c |sort -k1nr"
   ]
  },
  {
   "cell_type": "code",
   "execution_count": 7,
   "metadata": {},
   "outputs": [
    {
     "name": "stdout",
     "output_type": "stream",
     "text": [
      "#!/bin/bash\r\n",
      "\r\n",
      "if [ $# != 1 ] ; then\r\n",
      "  echo \"Usage: run_blastp_nr.sh $INPUT_FASTA\" >&2\r\n",
      "  exit 1\r\n",
      "fi\r\n",
      "SAMPLE=$1\r\n",
      "PATH=$PATH:/tools/software/singularity-2.5.2/bin\r\n",
      "export PATH\r\n",
      "BLAST=\"singularity exec -B /tools /tools/simg/blast-2.7.1.sing blastp\"\r\n",
      "DB=/tools/databases/ncbi/nr/default/nr\r\n",
      "#DB=/tools/databases/ncbi/ref_prok_rep_genomes/default/ref_prok_rep_genomes\r\n",
      "BLASTDB=$(dirname $DB)\r\n",
      "export BLASTDB\r\n",
      "IN_DIR=$HOME/mapula\r\n",
      "NUM_THREADS=$(expr $SLURM_JOB_CPUS_PER_NODE - 1)\r\n",
      "/usr/bin/time $BLAST -num_threads $NUM_THREADS -db $DB -outfmt \"6 std slen qlen qcovs qcovhsp stitle sblastnames staxids sscinames sskingdoms\" -out blast_results/${SAMPLE}_nr.tsv -query $IN_DIR/${SAMPLE}.faa -max_target_seqs 10 -evalue 10 -negative_seqidlist $IN_DIR/accession_list.txt\r\n"
     ]
    }
   ],
   "source": [
    "cat run_blastp_nr.sh"
   ]
  },
  {
   "cell_type": "markdown",
   "metadata": {},
   "source": [
    " 1. \t qseqid \t query (e.g., gene) sequence id\n",
    " 2. \t sseqid \t subject (e.g., reference genome) sequence id\n",
    " 3. \t pident \t percentage of identical matches\n",
    " 4. \t length \t alignment length\n",
    " 5. \t mismatch \t number of mismatches\n",
    " 6. \t gapopen \t number of gap openings\n",
    " 7. \t qstart \t start of alignment in query\n",
    " 8. \t qend \t end of alignment in query\n",
    " 9. \t sstart \t start of alignment in subject\n",
    " 10. \t send \t end of alignment in subject\n",
    " 11. \t evalue \t expect value\n",
    " 12. \t bitscore \t bit score"
   ]
  },
  {
   "cell_type": "code",
   "execution_count": 8,
   "metadata": {},
   "outputs": [],
   "source": [
    "whitelist = [\n",
    "    'g-proteobacteria',\n",
    "    'a-proteobacteria',\n",
    "    'd-proteobacteria',\n",
    "    'b-proteobacteria',\n",
    "    'firmicutes',\n",
    "    'cyanobacteria',\n",
    "    'CFB group bacteria',\n",
    "    'GNS bacteria',\n",
    "    'e-proteobacteria',\n",
    "    'planctomycetes',\n",
    "    'verrucomicrobia',\n",
    "    'chlamydias',\n",
    "    'green sulfur bacteria',\n",
    "    'actinobacteria',\n",
    "    'cyanobacteria',\n",
    "    'fusobacteria',\n",
    "    'thermotogales']"
   ]
  },
  {
   "cell_type": "code",
   "execution_count": 9,
   "metadata": {},
   "outputs": [],
   "source": [
    "categories = \"\"\"   6558 g-proteobacteria\n",
    "   5264 a-proteobacteria\n",
    "   4504 d-proteobacteria\n",
    "   3341 bacteria\n",
    "   2559 b-proteobacteria\n",
    "   1127 proteobacteria\n",
    "   1123 firmicutes\n",
    "    680 cyanobacteria\n",
    "    399 CFB group bacteria\n",
    "    363 high GC Gram+\n",
    "    258 verrucomicrobia\n",
    "    209 enterobacteria\n",
    "    208 dinoflagellates\n",
    "    183 e-proteobacteria\n",
    "    179 GNS bacteria\n",
    "    174 euryarchaeotes\n",
    "    171 ascomycetes\n",
    "    101 eudicots\n",
    "     95 planctomycetes\n",
    "     88 bony fishes\n",
    "     74 green sulfur bacteria\n",
    "     65 apicomplexans\n",
    "     59 a-proteobacteria;proteobacteria\n",
    "     55 viruses\n",
    "     52 spirochetes\n",
    "     50 chlamydias\n",
    "     36 aquificales\n",
    "     36 archaea\n",
    "     34 basidiomycetes\n",
    "     31 actinobacteria\n",
    "     25 N/A\n",
    "     24 fungi\n",
    "     22 kinetoplastids\n",
    "     20 brachiopods\n",
    "     20 nematodes\n",
    "     19 birds\n",
    "     19 stony corals\n",
    "     18 crenarchaeotes\n",
    "     18 flatworms\n",
    "     16 lizards\n",
    "     15 flies\n",
    "     14 bivalves\n",
    "     13 b-proteobacteria;proteobacteria\n",
    "     13 rodents\n",
    "     12 thermotogales\n",
    "     11 a-proteobacteria;g-proteobacteria\n",
    "     11 g-proteobacteria;proteobacteria\n",
    "     11 sea anemones\n",
    "     10 glomeromycetes\n",
    "     10 other sequences\n",
    "      9 bacteria;proteobacteria\n",
    "      9 choanoflagellates\n",
    "      9 placentals\n",
    "      8 beetles\n",
    "      8 monocots\n",
    "      7 frogs & toads\n",
    "      7 sea urchins\n",
    "      7 termites\n",
    "      6 cellular slime molds\n",
    "      6 gastropods\n",
    "      6 mites & ticks\n",
    "      6 primates\n",
    "      5 proteobacteria;viruses\n",
    "      4 oomycetes\n",
    "      4 whales & dolphins\n",
    "      3 a-proteobacteria;bacteria\n",
    "      3 bats\n",
    "      3 brown algae\n",
    "      3 bugs\n",
    "      3 crustaceans\n",
    "      3 eukaryotes\n",
    "      3 fusobacteria\n",
    "      3 liverworts\n",
    "      3 mosses\n",
    "      3 odd-toed ungulates\n",
    "      2 a-proteobacteria;g-proteobacteria;proteobacteria\n",
    "      2 a-proteobacteria;viruses\n",
    "      2 bees\n",
    "      2 ciliates\n",
    "      2 cryptomonads\n",
    "      2 even-toed ungulates\n",
    "      2 g-proteobacteria;viruses\n",
    "      2 lancelets\n",
    "      2 mosquitos\n",
    "      2 moths\n",
    "      2 segmented worms\n",
    "      2 tunicates\n",
    "      1 \"Acetobacter ascendens\" (Henneberg 1898) Kim et al. 2018;a-proteobacteria\n",
    "      1 ants\n",
    "      1 a-proteobacteria;b-proteobacteria\n",
    "      1 a-proteobacteria;firmicutes\n",
    "      1 bacteria;enterobacteria\n",
    "      1 bacteria;firmicutes;proteobacteria\n",
    "      1 bacteria;g-proteobacteria\n",
    "      1 b-proteobacteria;d-proteobacteria\n",
    "      1 b-proteobacteria;g-proteobacteria\n",
    "      1 b-proteobacteria;g-proteobacteria;proteobacteria\n",
    "      1 b-proteobacteria;high GC Gram+\n",
    "      1 butterflies\n",
    "      1 cephalopods\n",
    "      1 CFB group bacteria;bacteria;enterobacteria\n",
    "      1 cyanobacteria;firmicutes\n",
    "      1 diatoms\n",
    "      1 d-proteobacteria;euryarchaeotes\n",
    "      1 d-proteobacteria;proteobacteria\n",
    "      1 eudicots;other sequences\n",
    "      1 GNS bacteria;d-proteobacteria\n",
    "      1 green plants\n",
    "      1 insectivores\n",
    "      1 marsupials\n",
    "      1 myxozoans\n",
    "      1 other sequences;viruses\n",
    "      1 red algae\n",
    "      1 spiders\n",
    "      1 sponges\n",
    "      1 trichomonads\n",
    "      1 turtles\n",
    "      1 wasps &c.\n",
    "\"\"\""
   ]
  },
  {
   "cell_type": "code",
   "execution_count": 10,
   "metadata": {},
   "outputs": [
    {
     "name": "stdout",
     "output_type": "stream",
     "text": [
      "myxozoans, monocots, dinoflagellates, frogs & toads, sea anemones, nematodes, odd-toed ungulates, lancelets, gastropods, euryarchaeotes, mosquitos, turtles, wasps &c., butterflies, whales & dolphins, eukaryotes, bacteria, viruses, stony corals, crenarchaeotes, spiders, placentals, kinetoplastids, ants, bees, segmented worms, apicomplexans, flies, cephalopods, basidiomycetes, tunicates, archaea, other sequences, green plants, brown algae, high GC Gram+, flatworms, eudicots, proteobacteria, primates, choanoflagellates, bugs, brachiopods, marsupials, mosses, ascomycetes, fungi, glomeromycetes, ciliates, moths, \"Acetobacter ascendens\" (Henneberg 1898) Kim et al. 2018, diatoms, red algae, aquificales, sponges, crustaceans, even-toed ungulates, liverworts, bivalves, oomycetes, termites, cellular slime molds, bats, N/A, rodents, spirochetes, sea urchins, cryptomonads, trichomonads, insectivores, beetles, lizards, birds, enterobacteria, mites & ticks and bony fishes\n"
     ]
    }
   ],
   "source": [
    "from io import StringIO\n",
    "whiteset = set(whitelist)\n",
    "accepted_set = set()\n",
    "rejected_set = set()\n",
    "for line in StringIO(categories):\n",
    "    words = [line.strip().split(maxsplit=1)[1]]\n",
    "    if ';' in line:\n",
    "        words = words[0].split(';')\n",
    "    for word in words:\n",
    "        if word in whiteset:\n",
    "            accepted_set.add(word)\n",
    "        else:\n",
    "            rejected_set.add(word)\n",
    "print(', '.join(list(rejected_set)[:-1]) + ' and ' + list(rejected_set)[-1])"
   ]
  },
  {
   "cell_type": "code",
   "execution_count": 11,
   "metadata": {},
   "outputs": [
    {
     "name": "stdout",
     "output_type": "stream",
     "text": [
      "BOT1cds1\tWP_105417456.1\t22.222\t153\t113\t4\t6\t155\t4\t153\t8.31e-04\t49.7\t200\t217\t69\t69\thypothetical protein [Neorhizobium sp. T25_27]\ta-proteobacteria\t2093831\tNeorhizobium sp. T25_27\tBacteria\n",
      "BOT1cds2\tWP_105417458.1\t29.779\t272\t174\t7\t8\t272\t8\t269\t2.28e-30\t124\t276\t275\t96\t96\thypothetical protein [Neorhizobium sp. T25_27]\ta-proteobacteria\t2093831\tNeorhizobium sp. T25_27\tBacteria\n",
      "BOT1cds3\tPLY14434.1\t55.556\t1017\t452\t0\t1\t1017\t1\t1017\t0.0\t1133\t1030\t1021\t99\t99\tAcrB/AcrD/AcrF family protein [Sedimenticola sp.]\tg-proteobacteria\t1940285\tSedimenticola sp.\tBacteria\n",
      "BOT1cds4\tWP_029134727.1\t34.615\t312\t204\t0\t24\t335\t26\t337\t1.25e-54\t191\t340\t349\t89\t89\tefflux RND transporter periplasmic adaptor subunit [Sedimenticola selenatireducens]\tg-proteobacteria\t191960\tSedimenticola selenatireducens\tBacteria\n",
      "BOT1cds5\tWP_007759568.1\t26.389\t144\t89\t5\t50\t191\t395\t523\t1.0\t42.0\t527\t255\t56\t56\tbeta-hexosaminidase [Bacteroides finegoldii]\tCFB group bacteria\t338188;997888\tBacteroides finegoldii;Bacteroides finegoldii CL09T03C10\tBacteria\n"
     ]
    }
   ],
   "source": [
    "def filter_blast_hits(filename):\n",
    "    with open(filename) as input_file:\n",
    "        current_query = ''\n",
    "        query_changed = False\n",
    "        for line in input_file:\n",
    "            parts = line.strip().split('\\t')\n",
    "            category = parts[17]\n",
    "            query = parts[0]\n",
    "            if query != current_query:\n",
    "                current_query = query\n",
    "                query_change = True\n",
    "            if query_change and category in whiteset:\n",
    "                yield line\n",
    "                query_change = False\n",
    "bot1 = filter_blast_hits('BOT1_nr.tsv')\n",
    "for _ in range(5):\n",
    "    print(next(bot1), end='')"
   ]
  },
  {
   "cell_type": "code",
   "execution_count": 12,
   "metadata": {},
   "outputs": [
    {
     "data": {
      "text/plain": [
       "[('g-proteobacteria', 782),\n",
       " ('d-proteobacteria', 602),\n",
       " ('a-proteobacteria', 548),\n",
       " ('b-proteobacteria', 234),\n",
       " ('firmicutes', 145),\n",
       " ('cyanobacteria', 63),\n",
       " ('CFB group bacteria', 50),\n",
       " ('GNS bacteria', 27),\n",
       " ('e-proteobacteria', 26),\n",
       " ('verrucomicrobia', 22),\n",
       " ('planctomycetes', 12),\n",
       " ('green sulfur bacteria', 10),\n",
       " ('actinobacteria', 9),\n",
       " ('fusobacteria', 1),\n",
       " ('chlamydias', 1),\n",
       " ('thermotogales', 1)]"
      ]
     },
     "execution_count": 12,
     "metadata": {},
     "output_type": "execute_result"
    }
   ],
   "source": [
    "bot1_category_count = Counter([line.strip().split('\\t')[17] for line in filter_blast_hits('BOT1_nr.tsv')])\n",
    "bot1_category_count.most_common()"
   ]
  },
  {
   "cell_type": "code",
   "execution_count": 13,
   "metadata": {},
   "outputs": [
    {
     "data": {
      "text/plain": [
       "[('g-proteobacteria', 400),\n",
       " ('d-proteobacteria', 350),\n",
       " ('a-proteobacteria', 342),\n",
       " ('b-proteobacteria', 150),\n",
       " ('firmicutes', 78),\n",
       " ('cyanobacteria', 46),\n",
       " ('CFB group bacteria', 30),\n",
       " ('GNS bacteria', 21),\n",
       " ('planctomycetes', 13),\n",
       " ('verrucomicrobia', 11),\n",
       " ('e-proteobacteria', 9),\n",
       " ('actinobacteria', 6),\n",
       " ('green sulfur bacteria', 3),\n",
       " ('chlamydias', 2),\n",
       " ('fusobacteria', 1)]"
      ]
     },
     "execution_count": 13,
     "metadata": {},
     "output_type": "execute_result"
    }
   ],
   "source": [
    "bot2_category_count = Counter([line.strip().split('\\t')[17] for line in filter_blast_hits('BOT2_nr.tsv')])\n",
    "bot2_category_count.most_common()"
   ]
  },
  {
   "cell_type": "code",
   "execution_count": 14,
   "metadata": {},
   "outputs": [],
   "source": [
    "bot1_data = pd.DataFrame(bot1_category_count.most_common(), columns=['Category', 'BOT1 Count'])\n",
    "bot2_data = pd.DataFrame(bot2_category_count.most_common(), columns=['Category', 'BOT2 Count'])"
   ]
  },
  {
   "cell_type": "code",
   "execution_count": 15,
   "metadata": {},
   "outputs": [],
   "source": [
    "bot1_chart = alt.Chart(bot1_data).mark_bar().encode(x='Category', y='BOT1 Count')\n"
   ]
  },
  {
   "cell_type": "code",
   "execution_count": 16,
   "metadata": {},
   "outputs": [],
   "source": [
    "bot2_chart = alt.Chart(bot2_data).mark_bar(color='red').encode(x='Category', y='BOT2 Count')\n"
   ]
  },
  {
   "cell_type": "code",
   "execution_count": 17,
   "metadata": {},
   "outputs": [
    {
     "data": {
      "text/html": [
       "<div class=\"vega-embed\" id=\"564eec53-44f8-46cd-ad52-9942a61c2419\"></div>\n",
       "\n",
       "<style>\n",
       ".vega-embed .vega-actions > a {\n",
       "    transition: opacity 200ms ease-in;\n",
       "    opacity: 0.3;\n",
       "    margin-right: 0.6em;\n",
       "    color: #444;\n",
       "    text-decoration: none;\n",
       "}\n",
       "\n",
       ".vega-embed .vega-actions > a:hover {\n",
       "    color: #000;\n",
       "    text-decoration: underline;\n",
       "}\n",
       "\n",
       ".vega-embed:hover .vega-actions > a {\n",
       "    opacity: 1;\n",
       "    transition: 0s;\n",
       "}\n",
       "\n",
       ".vega-embed .error p {\n",
       "    color: firebrick;\n",
       "    font-size: 1.2em;\n",
       "}\n",
       "</style>\n"
      ]
     },
     "metadata": {
      "jupyter-vega3": "#564eec53-44f8-46cd-ad52-9942a61c2419"
     },
     "output_type": "display_data"
    },
    {
     "data": {
      "application/javascript": [
       "var spec = {\"hconcat\": [{\"encoding\": {\"x\": {\"field\": \"Category\", \"type\": \"nominal\"}, \"y\": {\"field\": \"BOT1 Count\", \"type\": \"quantitative\"}}, \"data\": {\"values\": [{\"Category\": \"g-proteobacteria\", \"BOT1 Count\": 782}, {\"Category\": \"d-proteobacteria\", \"BOT1 Count\": 602}, {\"Category\": \"a-proteobacteria\", \"BOT1 Count\": 548}, {\"Category\": \"b-proteobacteria\", \"BOT1 Count\": 234}, {\"Category\": \"firmicutes\", \"BOT1 Count\": 145}, {\"Category\": \"cyanobacteria\", \"BOT1 Count\": 63}, {\"Category\": \"CFB group bacteria\", \"BOT1 Count\": 50}, {\"Category\": \"GNS bacteria\", \"BOT1 Count\": 27}, {\"Category\": \"e-proteobacteria\", \"BOT1 Count\": 26}, {\"Category\": \"verrucomicrobia\", \"BOT1 Count\": 22}, {\"Category\": \"planctomycetes\", \"BOT1 Count\": 12}, {\"Category\": \"green sulfur bacteria\", \"BOT1 Count\": 10}, {\"Category\": \"actinobacteria\", \"BOT1 Count\": 9}, {\"Category\": \"fusobacteria\", \"BOT1 Count\": 1}, {\"Category\": \"chlamydias\", \"BOT1 Count\": 1}, {\"Category\": \"thermotogales\", \"BOT1 Count\": 1}]}, \"mark\": \"bar\"}, {\"encoding\": {\"x\": {\"field\": \"Category\", \"type\": \"nominal\"}, \"y\": {\"field\": \"BOT2 Count\", \"type\": \"quantitative\"}}, \"data\": {\"values\": [{\"Category\": \"g-proteobacteria\", \"BOT2 Count\": 400}, {\"Category\": \"d-proteobacteria\", \"BOT2 Count\": 350}, {\"Category\": \"a-proteobacteria\", \"BOT2 Count\": 342}, {\"Category\": \"b-proteobacteria\", \"BOT2 Count\": 150}, {\"Category\": \"firmicutes\", \"BOT2 Count\": 78}, {\"Category\": \"cyanobacteria\", \"BOT2 Count\": 46}, {\"Category\": \"CFB group bacteria\", \"BOT2 Count\": 30}, {\"Category\": \"GNS bacteria\", \"BOT2 Count\": 21}, {\"Category\": \"planctomycetes\", \"BOT2 Count\": 13}, {\"Category\": \"verrucomicrobia\", \"BOT2 Count\": 11}, {\"Category\": \"e-proteobacteria\", \"BOT2 Count\": 9}, {\"Category\": \"actinobacteria\", \"BOT2 Count\": 6}, {\"Category\": \"green sulfur bacteria\", \"BOT2 Count\": 3}, {\"Category\": \"chlamydias\", \"BOT2 Count\": 2}, {\"Category\": \"fusobacteria\", \"BOT2 Count\": 1}]}, \"mark\": {\"type\": \"bar\", \"color\": \"red\"}}], \"config\": {\"view\": {\"width\": 400, \"height\": 300}}, \"$schema\": \"https://vega.github.io/schema/vega-lite/v2.3.0.json\"};\n",
       "var opt = {};\n",
       "var selector = \"#564eec53-44f8-46cd-ad52-9942a61c2419\";\n",
       "var type = \"vega-lite\";\n",
       "\n",
       "var output_area = this;\n",
       "\n",
       "require(['nbextensions/jupyter-vega3/index'], function(vega) {\n",
       "  vega.render(selector, spec, type, opt, output_area);\n",
       "}, function (err) {\n",
       "  if (err.requireType !== 'scripterror') {\n",
       "    throw(err);\n",
       "  }\n",
       "});\n"
      ]
     },
     "metadata": {
      "jupyter-vega3": "#564eec53-44f8-46cd-ad52-9942a61c2419"
     },
     "output_type": "display_data"
    },
    {
     "data": {
      "text/plain": []
     },
     "execution_count": 17,
     "metadata": {},
     "output_type": "execute_result"
    },
    {
     "data": {
      "image/png": "[encoded data removed]"
     },
     "metadata": {
      "jupyter-vega3": "#564eec53-44f8-46cd-ad52-9942a61c2419"
     },
     "output_type": "display_data"
    }
   ],
   "source": [
    "bot1_chart | bot2_chart"
   ]
  },
  {
   "cell_type": "code",
   "execution_count": 18,
   "metadata": {},
   "outputs": [],
   "source": [
    "with open('BOT1_filtered_blast.tsv', 'w') as output_file:\n",
    "    for line in filter_blast_hits('BOT1_nr.tsv'):\n",
    "        output_file.write(line)"
   ]
  },
  {
   "cell_type": "code",
   "execution_count": 19,
   "metadata": {},
   "outputs": [],
   "source": [
    "with open('BOT2_filtered_blast.tsv', 'w') as output_file:\n",
    "    for line in filter_blast_hits('BOT2_nr.tsv'):\n",
    "        output_file.write(line)"
   ]
  },
  {
   "cell_type": "code",
   "execution_count": 20,
   "metadata": {},
   "outputs": [],
   "source": [
    "def get_ids(filename):\n",
    "    id_list = []\n",
    "    with open(filename) as input_file:\n",
    "        for line in input_file:\n",
    "            if line.startswith('>'):\n",
    "                id_list.append(line[1:].strip().split()[0])\n",
    "    return id_list\n",
    "bot1_ids = get_ids('BOT1.faa')\n",
    "bot2_ids = get_ids('BOT2.faa')\n"
   ]
  },
  {
   "cell_type": "code",
   "execution_count": 21,
   "metadata": {},
   "outputs": [],
   "source": [
    "def find_missing_ids(filename, id_list):\n",
    "    blast_hits = []\n",
    "    for line in filter_blast_hits(filename):\n",
    "        blast_hits.append(line.strip().split()[0])\n",
    "    return sorted(list(set(id_list).difference(set(blast_hits))))\n",
    "bot1_missing_ids = find_missing_ids('BOT1_nr.tsv', bot1_ids)\n",
    "bot2_missing_ids = find_missing_ids('BOT2_nr.tsv', bot2_ids)"
   ]
  },
  {
   "cell_type": "code",
   "execution_count": 22,
   "metadata": {},
   "outputs": [
    {
     "name": "stdout",
     "output_type": "stream",
     "text": [
      "BOT1 missing ID count: 184\n",
      "BOT2 missing ID count: 113\n"
     ]
    }
   ],
   "source": [
    "print(\"BOT1 missing ID count:\", len(bot1_missing_ids))\n",
    "print(\"BOT2 missing ID count:\", len(bot2_missing_ids))"
   ]
  },
  {
   "cell_type": "code",
   "execution_count": 23,
   "metadata": {},
   "outputs": [
    {
     "data": {
      "text/plain": [
       "[('g-proteobacteria', 417),\n",
       " ('a-proteobacteria', 266),\n",
       " ('d-proteobacteria', 220),\n",
       " ('b-proteobacteria', 110),\n",
       " ('firmicutes', 68),\n",
       " ('CFB group bacteria', 32),\n",
       " ('cyanobacteria', 23),\n",
       " ('e-proteobacteria', 18),\n",
       " ('GNS bacteria', 13),\n",
       " ('verrucomicrobia', 9),\n",
       " ('planctomycetes', 8),\n",
       " ('green sulfur bacteria', 6),\n",
       " ('actinobacteria', 5),\n",
       " ('fusobacteria', 1),\n",
       " ('chlamydias', 1)]"
      ]
     },
     "execution_count": 23,
     "metadata": {},
     "output_type": "execute_result"
    }
   ],
   "source": [
    "it1_category_count = Counter([line.strip().split('\\t')[17] for line in filter_blast_hits('IT1_nr.tsv')])\n",
    "it1_category_count.most_common()"
   ]
  },
  {
   "cell_type": "code",
   "execution_count": 26,
   "metadata": {},
   "outputs": [
    {
     "data": {
      "text/html": [
       "<div class=\"vega-embed\" id=\"bba4c431-13d2-4daa-8de9-a6cfa081b65a\"></div>\n",
       "\n",
       "<style>\n",
       ".vega-embed .vega-actions > a {\n",
       "    transition: opacity 200ms ease-in;\n",
       "    opacity: 0.3;\n",
       "    margin-right: 0.6em;\n",
       "    color: #444;\n",
       "    text-decoration: none;\n",
       "}\n",
       "\n",
       ".vega-embed .vega-actions > a:hover {\n",
       "    color: #000;\n",
       "    text-decoration: underline;\n",
       "}\n",
       "\n",
       ".vega-embed:hover .vega-actions > a {\n",
       "    opacity: 1;\n",
       "    transition: 0s;\n",
       "}\n",
       "\n",
       ".vega-embed .error p {\n",
       "    color: firebrick;\n",
       "    font-size: 1.2em;\n",
       "}\n",
       "</style>\n"
      ]
     },
     "metadata": {
      "jupyter-vega3": "#bba4c431-13d2-4daa-8de9-a6cfa081b65a"
     },
     "output_type": "display_data"
    },
    {
     "data": {
      "application/javascript": [
       "var spec = {\"encoding\": {\"x\": {\"field\": \"Category\", \"type\": \"nominal\"}, \"y\": {\"field\": \"IT1 Count\", \"type\": \"quantitative\"}}, \"data\": {\"values\": [{\"Category\": \"g-proteobacteria\", \"IT1 Count\": 417}, {\"Category\": \"a-proteobacteria\", \"IT1 Count\": 266}, {\"Category\": \"d-proteobacteria\", \"IT1 Count\": 220}, {\"Category\": \"b-proteobacteria\", \"IT1 Count\": 110}, {\"Category\": \"firmicutes\", \"IT1 Count\": 68}, {\"Category\": \"CFB group bacteria\", \"IT1 Count\": 32}, {\"Category\": \"cyanobacteria\", \"IT1 Count\": 23}, {\"Category\": \"e-proteobacteria\", \"IT1 Count\": 18}, {\"Category\": \"GNS bacteria\", \"IT1 Count\": 13}, {\"Category\": \"verrucomicrobia\", \"IT1 Count\": 9}, {\"Category\": \"planctomycetes\", \"IT1 Count\": 8}, {\"Category\": \"green sulfur bacteria\", \"IT1 Count\": 6}, {\"Category\": \"actinobacteria\", \"IT1 Count\": 5}, {\"Category\": \"fusobacteria\", \"IT1 Count\": 1}, {\"Category\": \"chlamydias\", \"IT1 Count\": 1}]}, \"config\": {\"view\": {\"width\": 400, \"height\": 300}}, \"mark\": \"bar\", \"$schema\": \"https://vega.github.io/schema/vega-lite/v2.3.0.json\"};\n",
       "var opt = {};\n",
       "var selector = \"#bba4c431-13d2-4daa-8de9-a6cfa081b65a\";\n",
       "var type = \"vega-lite\";\n",
       "\n",
       "var output_area = this;\n",
       "\n",
       "require(['nbextensions/jupyter-vega3/index'], function(vega) {\n",
       "  vega.render(selector, spec, type, opt, output_area);\n",
       "}, function (err) {\n",
       "  if (err.requireType !== 'scripterror') {\n",
       "    throw(err);\n",
       "  }\n",
       "});\n"
      ]
     },
     "metadata": {
      "jupyter-vega3": "#bba4c431-13d2-4daa-8de9-a6cfa081b65a"
     },
     "output_type": "display_data"
    },
    {
     "data": {
      "image/png": "[encoded data removed]"
     },
     "metadata": {
      "jupyter-vega3": "#bba4c431-13d2-4daa-8de9-a6cfa081b65a"
     },
     "output_type": "display_data"
    },
    {
     "data": {
      "text/plain": []
     },
     "execution_count": 26,
     "metadata": {},
     "output_type": "execute_result"
    }
   ],
   "source": [
    "it1_data = pd.DataFrame(it1_category_count.most_common(), columns=['Category', 'IT1 Count'])\n",
    "it1_chart = alt.Chart(it1_data).mark_bar().encode(x='Category', y='IT1 Count')\n",
    "it1_chart"
   ]
  },
  {
   "cell_type": "code",
   "execution_count": 27,
   "metadata": {},
   "outputs": [
    {
     "data": {
      "text/html": [
       "<div class=\"vega-embed\" id=\"d9f3e1cd-4236-42be-b409-cf3112dc0726\"></div>\n",
       "\n",
       "<style>\n",
       ".vega-embed .vega-actions > a {\n",
       "    transition: opacity 200ms ease-in;\n",
       "    opacity: 0.3;\n",
       "    margin-right: 0.6em;\n",
       "    color: #444;\n",
       "    text-decoration: none;\n",
       "}\n",
       "\n",
       ".vega-embed .vega-actions > a:hover {\n",
       "    color: #000;\n",
       "    text-decoration: underline;\n",
       "}\n",
       "\n",
       ".vega-embed:hover .vega-actions > a {\n",
       "    opacity: 1;\n",
       "    transition: 0s;\n",
       "}\n",
       "\n",
       ".vega-embed .error p {\n",
       "    color: firebrick;\n",
       "    font-size: 1.2em;\n",
       "}\n",
       "</style>\n"
      ]
     },
     "metadata": {
      "jupyter-vega3": "#d9f3e1cd-4236-42be-b409-cf3112dc0726"
     },
     "output_type": "display_data"
    },
    {
     "data": {
      "application/javascript": [
       "var spec = {\"hconcat\": [{\"encoding\": {\"x\": {\"field\": \"Category\", \"type\": \"nominal\"}, \"y\": {\"field\": \"BOT1 Count\", \"type\": \"quantitative\"}}, \"data\": {\"values\": [{\"Category\": \"g-proteobacteria\", \"BOT1 Count\": 782}, {\"Category\": \"d-proteobacteria\", \"BOT1 Count\": 602}, {\"Category\": \"a-proteobacteria\", \"BOT1 Count\": 548}, {\"Category\": \"b-proteobacteria\", \"BOT1 Count\": 234}, {\"Category\": \"firmicutes\", \"BOT1 Count\": 145}, {\"Category\": \"cyanobacteria\", \"BOT1 Count\": 63}, {\"Category\": \"CFB group bacteria\", \"BOT1 Count\": 50}, {\"Category\": \"GNS bacteria\", \"BOT1 Count\": 27}, {\"Category\": \"e-proteobacteria\", \"BOT1 Count\": 26}, {\"Category\": \"verrucomicrobia\", \"BOT1 Count\": 22}, {\"Category\": \"planctomycetes\", \"BOT1 Count\": 12}, {\"Category\": \"green sulfur bacteria\", \"BOT1 Count\": 10}, {\"Category\": \"actinobacteria\", \"BOT1 Count\": 9}, {\"Category\": \"fusobacteria\", \"BOT1 Count\": 1}, {\"Category\": \"chlamydias\", \"BOT1 Count\": 1}, {\"Category\": \"thermotogales\", \"BOT1 Count\": 1}]}, \"mark\": \"bar\"}, {\"encoding\": {\"x\": {\"field\": \"Category\", \"type\": \"nominal\"}, \"y\": {\"field\": \"BOT2 Count\", \"type\": \"quantitative\"}}, \"data\": {\"values\": [{\"Category\": \"g-proteobacteria\", \"BOT2 Count\": 400}, {\"Category\": \"d-proteobacteria\", \"BOT2 Count\": 350}, {\"Category\": \"a-proteobacteria\", \"BOT2 Count\": 342}, {\"Category\": \"b-proteobacteria\", \"BOT2 Count\": 150}, {\"Category\": \"firmicutes\", \"BOT2 Count\": 78}, {\"Category\": \"cyanobacteria\", \"BOT2 Count\": 46}, {\"Category\": \"CFB group bacteria\", \"BOT2 Count\": 30}, {\"Category\": \"GNS bacteria\", \"BOT2 Count\": 21}, {\"Category\": \"planctomycetes\", \"BOT2 Count\": 13}, {\"Category\": \"verrucomicrobia\", \"BOT2 Count\": 11}, {\"Category\": \"e-proteobacteria\", \"BOT2 Count\": 9}, {\"Category\": \"actinobacteria\", \"BOT2 Count\": 6}, {\"Category\": \"green sulfur bacteria\", \"BOT2 Count\": 3}, {\"Category\": \"chlamydias\", \"BOT2 Count\": 2}, {\"Category\": \"fusobacteria\", \"BOT2 Count\": 1}]}, \"mark\": {\"type\": \"bar\", \"color\": \"red\"}}, {\"encoding\": {\"x\": {\"field\": \"Category\", \"type\": \"nominal\"}, \"y\": {\"field\": \"IT1 Count\", \"type\": \"quantitative\"}}, \"data\": {\"values\": [{\"Category\": \"g-proteobacteria\", \"IT1 Count\": 417}, {\"Category\": \"a-proteobacteria\", \"IT1 Count\": 266}, {\"Category\": \"d-proteobacteria\", \"IT1 Count\": 220}, {\"Category\": \"b-proteobacteria\", \"IT1 Count\": 110}, {\"Category\": \"firmicutes\", \"IT1 Count\": 68}, {\"Category\": \"CFB group bacteria\", \"IT1 Count\": 32}, {\"Category\": \"cyanobacteria\", \"IT1 Count\": 23}, {\"Category\": \"e-proteobacteria\", \"IT1 Count\": 18}, {\"Category\": \"GNS bacteria\", \"IT1 Count\": 13}, {\"Category\": \"verrucomicrobia\", \"IT1 Count\": 9}, {\"Category\": \"planctomycetes\", \"IT1 Count\": 8}, {\"Category\": \"green sulfur bacteria\", \"IT1 Count\": 6}, {\"Category\": \"actinobacteria\", \"IT1 Count\": 5}, {\"Category\": \"fusobacteria\", \"IT1 Count\": 1}, {\"Category\": \"chlamydias\", \"IT1 Count\": 1}]}, \"mark\": \"bar\"}], \"config\": {\"view\": {\"width\": 400, \"height\": 300}}, \"$schema\": \"https://vega.github.io/schema/vega-lite/v2.3.0.json\"};\n",
       "var opt = {};\n",
       "var selector = \"#d9f3e1cd-4236-42be-b409-cf3112dc0726\";\n",
       "var type = \"vega-lite\";\n",
       "\n",
       "var output_area = this;\n",
       "\n",
       "require(['nbextensions/jupyter-vega3/index'], function(vega) {\n",
       "  vega.render(selector, spec, type, opt, output_area);\n",
       "}, function (err) {\n",
       "  if (err.requireType !== 'scripterror') {\n",
       "    throw(err);\n",
       "  }\n",
       "});\n"
      ]
     },
     "metadata": {
      "jupyter-vega3": "#d9f3e1cd-4236-42be-b409-cf3112dc0726"
     },
     "output_type": "display_data"
    },
    {
     "data": {
      "text/plain": []
     },
     "execution_count": 27,
     "metadata": {},
     "output_type": "execute_result"
    },
    {
     "data": {
      "image/png": "[encoded data removed]"
     },
     "metadata": {
      "jupyter-vega3": "#d9f3e1cd-4236-42be-b409-cf3112dc0726"
     },
     "output_type": "display_data"
    }
   ],
   "source": [
    "bot1_chart | bot2_chart | it1_chart"
   ]
  },
  {
   "cell_type": "code",
   "execution_count": 28,
   "metadata": {},
   "outputs": [
    {
     "name": "stdout",
     "output_type": "stream",
     "text": [
      "IT1 missing ID count: 63\n"
     ]
    }
   ],
   "source": [
    "it1_ids = get_ids('IT1.faa')\n",
    "it1_missing_ids = find_missing_ids('IT1_nr.tsv', it1_ids)\n",
    "print(\"IT1 missing ID count:\", len(it1_missing_ids))\n"
   ]
  },
  {
   "cell_type": "code",
   "execution_count": null,
   "metadata": {},
   "outputs": [],
   "source": []
  }
 ],
 "metadata": {
  "kernelspec": {
   "display_name": "Python [Root]",
   "language": "python",
   "name": "Python [Root]"
  },
  "language_info": {
   "codemirror_mode": {
    "name": "ipython",
    "version": 3
   },
   "file_extension": ".py",
   "mimetype": "text/x-python",
   "name": "python",
   "nbconvert_exporter": "python",
   "pygments_lexer": "ipython3",
   "version": "3.5.4"
  }
 },
 "nbformat": 4,
 "nbformat_minor": 2
}
